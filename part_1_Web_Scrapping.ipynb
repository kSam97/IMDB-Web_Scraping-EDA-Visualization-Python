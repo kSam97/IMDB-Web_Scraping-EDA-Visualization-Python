{
 "cells": [
  {
   "cell_type": "markdown",
   "id": "93f476bf-e215-42bc-bfa5-7c9bf564b651",
   "metadata": {},
   "source": [
    "# <center> IMDb top 500 movies scraping <center>\n",
    "\n",
    "-- Portfolio Project by Samrat Kundu\n",
    "- linkdin: https://www.linkedin.com/in/samratkundu97/"
   ]
  },
  {
   "cell_type": "markdown",
   "id": "be6fc5dd-1e1a-4225-aad0-68d96983e9d5",
   "metadata": {},
   "source": [
    "- This is the Part 1 of this Project"
   ]
  },
  {
   "cell_type": "markdown",
   "id": "75e5f468-8060-4f9b-9ffa-d7bc6002ca85",
   "metadata": {},
   "source": [
    "# Project Outline:\n",
    "\n",
    "IMDb_link: https://www.imdb.com/list/ls050782187/?sort=list_order,asc&st_dt=&mode=detail&page=1\n",
    "<p>Extracting information for top 250 IMDb movies</p>\n",
    "<ul>\n",
    "    <li>Title</li>\n",
    "    <li>Release year</li>\n",
    "    <li>Film Rating</li>\n",
    "    <li>Runtime</li>\n",
    "    <li>Genre</li>\n",
    "    <li>IMDb rating</li>\n",
    "    <li>Metascore</li>\n",
    "    <li>Description</li>\n",
    "    <li>Director name</li>\n",
    "    <li>Votes</li>\n",
    "    <li>Gross</li>\n",
    "</ul>\n",
    "Putting all the information in a CSV file"
   ]
  },
  {
   "cell_type": "markdown",
   "id": "e917f1fe-5048-41e1-877d-8808596c570a",
   "metadata": {},
   "source": [
    "# Import Nessecary Modules:"
   ]
  },
  {
   "cell_type": "code",
   "execution_count": 1,
   "id": "e4322ded-3d91-4091-8d00-303a632f001f",
   "metadata": {},
   "outputs": [
    {
     "name": "stdout",
     "output_type": "stream",
     "text": [
      "Imported Succesfully\n"
     ]
    }
   ],
   "source": [
    "# requests\n",
    "import requests\n",
    "\n",
    "# Beautiful Soup\n",
    "from bs4 import BeautifulSoup\n",
    "\n",
    "# Pandas\n",
    "import pandas as pd\n",
    "\n",
    "# Numpy\n",
    "import numpy as np\n",
    "\n",
    "# sleep\n",
    "from time import sleep\n",
    "\n",
    "# randint\n",
    "from random import randint\n",
    "\n",
    "# Check\n",
    "print('Imported Succesfully')"
   ]
  },
  {
   "cell_type": "markdown",
   "id": "dd5b424c-f366-409d-b885-2895e2032d70",
   "metadata": {},
   "source": [
    "# Getting Access"
   ]
  },
  {
   "cell_type": "code",
   "execution_count": 2,
   "id": "f481e146-7397-42ff-b9c0-727510709954",
   "metadata": {},
   "outputs": [
    {
     "data": {
      "text/plain": [
       "200"
      ]
     },
     "execution_count": 2,
     "metadata": {},
     "output_type": "execute_result"
    }
   ],
   "source": [
    "# putting the website link into a variable named url\n",
    "imdb_url = 'https://www.imdb.com/list/ls050782187/?sort=list_order,asc&st_dt=&mode=detail&page=1'\n",
    "headers = {'User-Agent': 'Mozilla/5.0 (Windows NT 10.0; Win64; x64) AppleWebKit/537.36 (KHTML, like Gecko) Chrome/114.0.0.0 Safari/537.36'}\n",
    "\n",
    "# using requests to access the url\n",
    "response = requests.get(imdb_url, headers=headers)\n",
    "\n",
    "# checking the status code\n",
    "response.status_code"
   ]
  },
  {
   "cell_type": "markdown",
   "id": "19cc4961-435f-46b3-aa0b-0769d47af82a",
   "metadata": {},
   "source": [
    "# Using Beautiful Soup to start scraping"
   ]
  },
  {
   "cell_type": "code",
   "execution_count": 3,
   "id": "b2cb8cd2-328d-4558-8d1d-6646ddd918a0",
   "metadata": {
    "scrolled": true
   },
   "outputs": [],
   "source": [
    "# Creating a variable soup to store entire html code into it\n",
    "soup = BeautifulSoup(response.text, 'lxml')"
   ]
  },
  {
   "cell_type": "code",
   "execution_count": 4,
   "id": "e4a913ec-66a4-48d2-8c34-b15391e07020",
   "metadata": {
    "scrolled": true
   },
   "outputs": [
    {
     "name": "stdout",
     "output_type": "stream",
     "text": [
      "The Godfather\n",
      "The Silence of the Lambs\n",
      "Star Wars: Episode V - The Empire Strikes Back\n",
      "The Shawshank Redemption\n",
      "The Shining\n"
     ]
    }
   ],
   "source": [
    "# Scrape the first 5 movie title\n",
    "\n",
    "# create a variable all_movies to store div tag of each movie  \n",
    "all_movies = soup.find_all('div', class_='lister-item-content')\n",
    "\n",
    "# Scrape first five movie title\n",
    "for movie in all_movies[:5]:\n",
    "    print(movie.find('h3', class_='lister-item-header').a.text.strip())"
   ]
  },
  {
   "cell_type": "markdown",
   "id": "278d123d-b5a8-434e-8048-ba122d11a84b",
   "metadata": {},
   "source": [
    "- Now we have access of the main div tag of each movie \n",
    "- Let's try to scrape all the nessecary data for the first movie "
   ]
  },
  {
   "cell_type": "code",
   "execution_count": 5,
   "id": "fb32ce51-d20d-4c3a-97ca-cd480443e5cb",
   "metadata": {
    "scrolled": true
   },
   "outputs": [
    {
     "name": "stdout",
     "output_type": "stream",
     "text": [
      "All the data for the first movie\n",
      "\n",
      "Movie Title :  The Godfather\n",
      "Release Year :  (1972)\n",
      "Film Rating :  A\n",
      "Run Time :  175 min\n",
      "Genre :  Crime, Drama\n",
      "IMDb Rating :  9.2\n",
      "Metascore :  100        \n",
      "Description :  Don Vito Corleone, head of a mafia family, decides to hand over his empire to his youngest son Michael. However, his decision unintentionally puts the lives of his loved ones in grave danger.\n",
      "Director :  Francis Ford Coppola\n",
      "Votes :  1,929,034\n",
      "Gross :  $134.97M\n"
     ]
    }
   ],
   "source": [
    "# Scrape all the nessecary data for the first movie\n",
    "\n",
    "print('All the data for the first movie\\n')\n",
    "\n",
    "first_movie = all_movies[0]\n",
    "\n",
    "# movie title\n",
    "print('Movie Title : ',  first_movie.find('h3').a.text.strip())\n",
    "\n",
    "# Release Year\n",
    "print('Release Year : ', first_movie.find('span', class_='lister-item-year text-muted unbold').text.strip())\n",
    "\n",
    "# Film Rating\n",
    "print('Film Rating : ', first_movie.find('span', class_='certificate').text.strip())\n",
    "\n",
    "# Runtime\n",
    "print('Run Time : ', first_movie.find('span', class_='runtime').text.strip())\n",
    "\n",
    "# Genre \n",
    "print('Genre : ', first_movie.find('span', class_='genre').text.strip())\n",
    "\n",
    "# IMDb rating\n",
    "print('IMDb Rating : ', first_movie.find('span', class_='ipl-rating-star__rating').text.strip())\n",
    "\n",
    "# Metascore\n",
    "print('Metascore : ', first_movie.find('div', class_='inline-block ratings-metascore').span.text)\n",
    "\n",
    "# Description\n",
    "print('Description : ', first_movie.find_all('p')[1].text.strip())\n",
    "\n",
    "# Director \n",
    "print('Director : ', first_movie.find_all('p', class_='text-muted text-small')[1].find_all('a')[0].text)\n",
    "\n",
    "# Votes\n",
    "print('Votes : ', first_movie.find_all('p', class_='text-muted text-small')[2].find_all('span')[1].text)\n",
    "\n",
    "#Gross\n",
    "print('Gross : ', first_movie.find_all('p', class_='text-muted text-small')[2].find_all('span')[-1].text)\n"
   ]
  },
  {
   "cell_type": "markdown",
   "id": "173caacd-ee84-4adf-876b-0d2e4abf7eb0",
   "metadata": {},
   "source": [
    "<h3>Snapshot of the first movie from the website</h3>\n",
    "\n",
    "<img src='the_Godfather.jpg'>"
   ]
  },
  {
   "cell_type": "markdown",
   "id": "b09e34d7-0411-4625-9ad7-7c62df1f99e1",
   "metadata": {},
   "source": [
    "<h4>Verdict for the first scrape</h4>\n",
    "\n",
    "- Every Value is correct! except for the Film Rating. \n",
    "- Which Should be R but here I got A\n",
    "- In film rating 'R' means Restricted and 'A' Means Adults Only\n",
    "- Both rating is meant for 18+ audiences so here the data is vaild\n",
    "- We will further notice other film ratings later whether we get some alternative values or not"
   ]
  },
  {
   "cell_type": "markdown",
   "id": "bdbc3f7f-b138-4b25-a56b-5615625b4cd3",
   "metadata": {},
   "source": [
    "# Automation\n",
    "- Now using loop automate the whole task by iterating each movie url\n",
    "- Create a DataFrame\n",
    "- Export the DataFrame to a CSV file"
   ]
  },
  {
   "cell_type": "markdown",
   "id": "12060e6e-ed5c-4495-8abf-d92c1d93275f",
   "metadata": {},
   "source": [
    "## Step 1. Using for loop to iterate all the data"
   ]
  },
  {
   "cell_type": "code",
   "execution_count": 6,
   "id": "28506924-da1e-4839-935b-6082792a4a73",
   "metadata": {},
   "outputs": [
    {
     "name": "stdout",
     "output_type": "stream",
     "text": [
      "Complete Page: 1\n",
      "Complete Page: 2\n",
      "Complete Page: 3\n",
      "Complete Page: 4\n",
      "Complete Page: 5\n",
      "\n",
      ".\n",
      ".\n",
      ".\n",
      "\n",
      "All Done!\n"
     ]
    }
   ],
   "source": [
    "\n",
    "imdb_data = []\n",
    "\n",
    "for i in range(1,6):\n",
    "    # headers value\n",
    "    headers = {'User-Agent': 'Mozilla/5.0 (Windows NT 10.0; Win64; x64) AppleWebKit/537.36 (KHTML, like Gecko) Chrome/114.0.0.0 Safari/537.36'}\n",
    "\n",
    "    # first_page url\n",
    "    url = f'https://www.imdb.com/list/ls050782187/?st_dt=&mode=detail&page={i}&sort=list_order,asc'\n",
    "    \n",
    "    # using requests to access the url\n",
    "    response = requests.get(url, headers=headers)\n",
    "\n",
    "    # parsing data \n",
    "    soup = BeautifulSoup(response.content, 'lxml')\n",
    "\n",
    "    # assigning sleep between 0 and 5 seconds randomly\n",
    "    sleep(randint(0,5))\n",
    "\n",
    "    # create a variable all_movies to store div tag of each movie  \n",
    "    all_movies = soup.find_all('div', class_='lister-item-content')\n",
    "\n",
    "    # now iterate all the movies to extract and store data into those empty lists\n",
    "    for movie in all_movies:\n",
    "\n",
    "        # movie title\n",
    "        title = movie.find('h3').a.text.strip()\n",
    "        \n",
    "        # Release Year\n",
    "        rl = movie.find('span', class_='lister-item-year text-muted unbold')\n",
    "        release_year = rl.text.strip() if rl else np.nan\n",
    "        \n",
    "        # Film Rating\n",
    "        fr = movie.find('span', class_='certificate')\n",
    "        film_rating = fr.text.strip() if fr else np.nan\n",
    "        \n",
    "        # Runtime\n",
    "        rt = movie.find('span', class_='runtime')\n",
    "        runtime = rt.text.strip() if rt else np.nan\n",
    "        \n",
    "        # Genre \n",
    "        gnr = movie.find('span', class_='genre')\n",
    "        genre = [gnr.text.strip() if gnr else np.nan]\n",
    "        \n",
    "        # IMDb rating\n",
    "        imdb = movie.find('span', class_='ipl-rating-star__rating')\n",
    "        imdb_rating = imdb.text.strip() if imdb else np.nan\n",
    "        \n",
    "        # Metascore\n",
    "        mscore = movie.find('div', class_='inline-block ratings-metascore')\n",
    "        metascore = mscore.span.text if mscore else np.nan\n",
    "        \n",
    "        # Description\n",
    "        desc =  movie.find_all('p')[1]\n",
    "        description = desc.text.strip() if desc else np.nan\n",
    "        \n",
    "        # Director \n",
    "        dir_name = movie.find_all('p', class_='text-muted text-small')[1].find_all('a')[0]\n",
    "        director = [dir_name.text if dir_name else np.nan]\n",
    "        \n",
    "        # Votes\n",
    "        vts = movie.find_all('p', class_='text-muted text-small')[2].find_all('span')[1]\n",
    "        votes = vts.text if vts else np.nan\n",
    "        \n",
    "        #Gross\n",
    "        grs = movie.find_all('p', class_='text-muted text-small')[2].find_all('span')[-1]\n",
    "        gross = grs.text if grs else np.nan\n",
    "\n",
    "        \n",
    "        # append all the data in to a 2D list\n",
    "        imdb_data.append([title, release_year, film_rating, runtime, genre, imdb_rating, metascore, description, director, votes, gross])\n",
    "\n",
    "    # print a statement     \n",
    "    print(f'Complete Page: {i}')\n",
    "\n",
    "print('''\n",
    ".\n",
    ".\n",
    ".\n",
    "''')\n",
    "print('All Done!')\n",
    "    "
   ]
  },
  {
   "cell_type": "code",
   "execution_count": 7,
   "id": "f083ab8f-a351-4240-b4c3-d664be55bd5e",
   "metadata": {
    "scrolled": true
   },
   "outputs": [
    {
     "data": {
      "text/plain": [
       "500"
      ]
     },
     "execution_count": 7,
     "metadata": {},
     "output_type": "execute_result"
    }
   ],
   "source": [
    "# Length of all rows\n",
    "len(imdb_data)"
   ]
  },
  {
   "cell_type": "markdown",
   "id": "5a6d8372-df33-41d0-89a8-4f0d5aff105f",
   "metadata": {},
   "source": [
    "## Step 2. Inset the data into a pandas DataFrame"
   ]
  },
  {
   "cell_type": "code",
   "execution_count": 8,
   "id": "3ae28335-5d6f-4523-b4e5-67c9fd46b8a5",
   "metadata": {},
   "outputs": [],
   "source": [
    "# Create a list columns to store all the column headers\n",
    "columns = ['movie_title', 'release_year', 'film_rating', 'runtime', 'genre', 'imdb_rating', 'metascore', 'description', 'director', 'votes', 'gross' ]\n",
    "\n",
    "# Create DataFrame (df_imdb) and insert imdb_data\n",
    "df_imdb = pd.DataFrame(imdb_data, columns=columns)"
   ]
  },
  {
   "cell_type": "code",
   "execution_count": 9,
   "id": "c6455222-69c3-4f8b-b21a-918b15145e1e",
   "metadata": {},
   "outputs": [
    {
     "data": {
      "text/html": [
       "<div>\n",
       "<style scoped>\n",
       "    .dataframe tbody tr th:only-of-type {\n",
       "        vertical-align: middle;\n",
       "    }\n",
       "\n",
       "    .dataframe tbody tr th {\n",
       "        vertical-align: top;\n",
       "    }\n",
       "\n",
       "    .dataframe thead th {\n",
       "        text-align: right;\n",
       "    }\n",
       "</style>\n",
       "<table border=\"1\" class=\"dataframe\">\n",
       "  <thead>\n",
       "    <tr style=\"text-align: right;\">\n",
       "      <th></th>\n",
       "      <th>movie_title</th>\n",
       "      <th>release_year</th>\n",
       "      <th>film_rating</th>\n",
       "      <th>runtime</th>\n",
       "      <th>genre</th>\n",
       "      <th>imdb_rating</th>\n",
       "      <th>metascore</th>\n",
       "      <th>description</th>\n",
       "      <th>director</th>\n",
       "      <th>votes</th>\n",
       "      <th>gross</th>\n",
       "    </tr>\n",
       "  </thead>\n",
       "  <tbody>\n",
       "    <tr>\n",
       "      <th>0</th>\n",
       "      <td>The Godfather</td>\n",
       "      <td>(1972)</td>\n",
       "      <td>A</td>\n",
       "      <td>175 min</td>\n",
       "      <td>[Crime, Drama]</td>\n",
       "      <td>9.2</td>\n",
       "      <td>100</td>\n",
       "      <td>Don Vito Corleone, head of a mafia family, dec...</td>\n",
       "      <td>[Francis Ford Coppola]</td>\n",
       "      <td>1,929,034</td>\n",
       "      <td>$134.97M</td>\n",
       "    </tr>\n",
       "    <tr>\n",
       "      <th>1</th>\n",
       "      <td>The Silence of the Lambs</td>\n",
       "      <td>(1991)</td>\n",
       "      <td>A</td>\n",
       "      <td>118 min</td>\n",
       "      <td>[Crime, Drama, Thriller]</td>\n",
       "      <td>8.6</td>\n",
       "      <td>86</td>\n",
       "      <td>A young F.B.I. cadet must receive the help of ...</td>\n",
       "      <td>[Jonathan Demme]</td>\n",
       "      <td>1,479,099</td>\n",
       "      <td>$130.74M</td>\n",
       "    </tr>\n",
       "    <tr>\n",
       "      <th>2</th>\n",
       "      <td>Star Wars: Episode V - The Empire Strikes Back</td>\n",
       "      <td>(1980)</td>\n",
       "      <td>UA</td>\n",
       "      <td>124 min</td>\n",
       "      <td>[Action, Adventure, Fantasy]</td>\n",
       "      <td>8.7</td>\n",
       "      <td>82</td>\n",
       "      <td>After the Rebels are overpowered by the Empire...</td>\n",
       "      <td>[Irvin Kershner]</td>\n",
       "      <td>1,331,089</td>\n",
       "      <td>$290.48M</td>\n",
       "    </tr>\n",
       "    <tr>\n",
       "      <th>3</th>\n",
       "      <td>The Shawshank Redemption</td>\n",
       "      <td>(1994)</td>\n",
       "      <td>A</td>\n",
       "      <td>142 min</td>\n",
       "      <td>[Drama]</td>\n",
       "      <td>9.3</td>\n",
       "      <td>82</td>\n",
       "      <td>Over the course of several years, two convicts...</td>\n",
       "      <td>[Frank Darabont]</td>\n",
       "      <td>2,771,093</td>\n",
       "      <td>$28.34M</td>\n",
       "    </tr>\n",
       "    <tr>\n",
       "      <th>4</th>\n",
       "      <td>The Shining</td>\n",
       "      <td>(1980)</td>\n",
       "      <td>A</td>\n",
       "      <td>146 min</td>\n",
       "      <td>[Drama, Horror]</td>\n",
       "      <td>8.4</td>\n",
       "      <td>66</td>\n",
       "      <td>A family heads to an isolated hotel for the wi...</td>\n",
       "      <td>[Stanley Kubrick]</td>\n",
       "      <td>1,058,395</td>\n",
       "      <td>$44.02M</td>\n",
       "    </tr>\n",
       "    <tr>\n",
       "      <th>...</th>\n",
       "      <td>...</td>\n",
       "      <td>...</td>\n",
       "      <td>...</td>\n",
       "      <td>...</td>\n",
       "      <td>...</td>\n",
       "      <td>...</td>\n",
       "      <td>...</td>\n",
       "      <td>...</td>\n",
       "      <td>...</td>\n",
       "      <td>...</td>\n",
       "      <td>...</td>\n",
       "    </tr>\n",
       "    <tr>\n",
       "      <th>495</th>\n",
       "      <td>Me, Myself &amp; Irene</td>\n",
       "      <td>(2000)</td>\n",
       "      <td>A</td>\n",
       "      <td>116 min</td>\n",
       "      <td>[Comedy]</td>\n",
       "      <td>6.6</td>\n",
       "      <td>49</td>\n",
       "      <td>A nice-guy cop with Dissociative Identity Diso...</td>\n",
       "      <td>[Bobby Farrelly]</td>\n",
       "      <td>244,713</td>\n",
       "      <td>$90.57M</td>\n",
       "    </tr>\n",
       "    <tr>\n",
       "      <th>496</th>\n",
       "      <td>The Darjeeling Limited</td>\n",
       "      <td>(2007)</td>\n",
       "      <td>R</td>\n",
       "      <td>91 min</td>\n",
       "      <td>[Adventure, Comedy, Drama]</td>\n",
       "      <td>7.2</td>\n",
       "      <td>67</td>\n",
       "      <td>A year after their father's funeral, three bro...</td>\n",
       "      <td>[Wes Anderson]</td>\n",
       "      <td>209,306</td>\n",
       "      <td>$11.90M</td>\n",
       "    </tr>\n",
       "    <tr>\n",
       "      <th>497</th>\n",
       "      <td>Fear</td>\n",
       "      <td>(1996)</td>\n",
       "      <td>Not Rated</td>\n",
       "      <td>97 min</td>\n",
       "      <td>[Drama, Thriller]</td>\n",
       "      <td>6.2</td>\n",
       "      <td>51</td>\n",
       "      <td>When Nicole met David; handsome, charming, aff...</td>\n",
       "      <td>[James Foley]</td>\n",
       "      <td>51,603</td>\n",
       "      <td>$20.75M</td>\n",
       "    </tr>\n",
       "    <tr>\n",
       "      <th>498</th>\n",
       "      <td>Planet Terror</td>\n",
       "      <td>(2007)</td>\n",
       "      <td>A</td>\n",
       "      <td>105 min</td>\n",
       "      <td>[Action, Comedy, Horror]</td>\n",
       "      <td>7</td>\n",
       "      <td>NaN</td>\n",
       "      <td>After an experimental bio-weapon is released, ...</td>\n",
       "      <td>[Robert Rodriguez]</td>\n",
       "      <td>217,953</td>\n",
       "      <td>217,953</td>\n",
       "    </tr>\n",
       "    <tr>\n",
       "      <th>499</th>\n",
       "      <td>The Descent</td>\n",
       "      <td>(2005)</td>\n",
       "      <td>A</td>\n",
       "      <td>99 min</td>\n",
       "      <td>[Adventure, Horror, Thriller]</td>\n",
       "      <td>7.2</td>\n",
       "      <td>71</td>\n",
       "      <td>A caving expedition goes horribly wrong, as th...</td>\n",
       "      <td>[Neil Marshall]</td>\n",
       "      <td>235,303</td>\n",
       "      <td>$26.02M</td>\n",
       "    </tr>\n",
       "  </tbody>\n",
       "</table>\n",
       "<p>500 rows × 11 columns</p>\n",
       "</div>"
      ],
      "text/plain": [
       "                                        movie_title release_year film_rating  \\\n",
       "0                                     The Godfather       (1972)           A   \n",
       "1                          The Silence of the Lambs       (1991)           A   \n",
       "2    Star Wars: Episode V - The Empire Strikes Back       (1980)          UA   \n",
       "3                          The Shawshank Redemption       (1994)           A   \n",
       "4                                       The Shining       (1980)           A   \n",
       "..                                              ...          ...         ...   \n",
       "495                              Me, Myself & Irene       (2000)           A   \n",
       "496                          The Darjeeling Limited       (2007)           R   \n",
       "497                                            Fear       (1996)   Not Rated   \n",
       "498                                   Planet Terror       (2007)           A   \n",
       "499                                     The Descent       (2005)           A   \n",
       "\n",
       "     runtime                          genre imdb_rating    metascore  \\\n",
       "0    175 min                 [Crime, Drama]         9.2  100           \n",
       "1    118 min       [Crime, Drama, Thriller]         8.6   86           \n",
       "2    124 min   [Action, Adventure, Fantasy]         8.7   82           \n",
       "3    142 min                        [Drama]         9.3   82           \n",
       "4    146 min                [Drama, Horror]         8.4   66           \n",
       "..       ...                            ...         ...          ...   \n",
       "495  116 min                       [Comedy]         6.6   49           \n",
       "496   91 min     [Adventure, Comedy, Drama]         7.2   67           \n",
       "497   97 min              [Drama, Thriller]         6.2   51           \n",
       "498  105 min       [Action, Comedy, Horror]           7          NaN   \n",
       "499   99 min  [Adventure, Horror, Thriller]         7.2   71           \n",
       "\n",
       "                                           description  \\\n",
       "0    Don Vito Corleone, head of a mafia family, dec...   \n",
       "1    A young F.B.I. cadet must receive the help of ...   \n",
       "2    After the Rebels are overpowered by the Empire...   \n",
       "3    Over the course of several years, two convicts...   \n",
       "4    A family heads to an isolated hotel for the wi...   \n",
       "..                                                 ...   \n",
       "495  A nice-guy cop with Dissociative Identity Diso...   \n",
       "496  A year after their father's funeral, three bro...   \n",
       "497  When Nicole met David; handsome, charming, aff...   \n",
       "498  After an experimental bio-weapon is released, ...   \n",
       "499  A caving expedition goes horribly wrong, as th...   \n",
       "\n",
       "                   director      votes     gross  \n",
       "0    [Francis Ford Coppola]  1,929,034  $134.97M  \n",
       "1          [Jonathan Demme]  1,479,099  $130.74M  \n",
       "2          [Irvin Kershner]  1,331,089  $290.48M  \n",
       "3          [Frank Darabont]  2,771,093   $28.34M  \n",
       "4         [Stanley Kubrick]  1,058,395   $44.02M  \n",
       "..                      ...        ...       ...  \n",
       "495        [Bobby Farrelly]    244,713   $90.57M  \n",
       "496          [Wes Anderson]    209,306   $11.90M  \n",
       "497           [James Foley]     51,603   $20.75M  \n",
       "498      [Robert Rodriguez]    217,953   217,953  \n",
       "499         [Neil Marshall]    235,303   $26.02M  \n",
       "\n",
       "[500 rows x 11 columns]"
      ]
     },
     "execution_count": 9,
     "metadata": {},
     "output_type": "execute_result"
    }
   ],
   "source": [
    "# first and last five rows \n",
    "df_imdb"
   ]
  },
  {
   "cell_type": "markdown",
   "id": "8c9a2907-6043-4e2f-ae1b-50b70247d5e3",
   "metadata": {},
   "source": [
    "## Step 3. Export the DataFrame to a CSV file "
   ]
  },
  {
   "cell_type": "code",
   "execution_count": 15,
   "id": "5496fb64-8f8d-4ab7-9014-ce68e14d9bc5",
   "metadata": {},
   "outputs": [],
   "source": [
    "df_imdb.to_csv('top500_imdb_movies.csv')"
   ]
  },
  {
   "cell_type": "markdown",
   "id": "38ab17b3-1c47-4236-96e8-8a24b70924db",
   "metadata": {},
   "source": [
    "- Kindly visit the Part 2 of this Project for Exploratory Data Analysis and Visualization"
   ]
  }
 ],
 "metadata": {
  "kernelspec": {
   "display_name": "Python 3 (ipykernel)",
   "language": "python",
   "name": "python3"
  },
  "language_info": {
   "codemirror_mode": {
    "name": "ipython",
    "version": 3
   },
   "file_extension": ".py",
   "mimetype": "text/x-python",
   "name": "python",
   "nbconvert_exporter": "python",
   "pygments_lexer": "ipython3",
   "version": "3.10.9"
  }
 },
 "nbformat": 4,
 "nbformat_minor": 5
}
